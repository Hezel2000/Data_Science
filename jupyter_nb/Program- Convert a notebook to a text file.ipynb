{
 "cells": [
  {
   "cell_type": "code",
   "execution_count": 1,
   "metadata": {},
   "outputs": [],
   "source": [
    "import pandas as pd\n",
    "import modules.mineralogyModule as mm\n",
    "\n",
    "import nbformat\n",
    "from nbconvert.exporters import RSTExporter"
   ]
  },
  {
   "cell_type": "code",
   "execution_count": 2,
   "metadata": {},
   "outputs": [],
   "source": [
    "fileNames = pd.DataFrame(mm.dirFiles('.', '.ipynb'))\n",
    "\n",
    "fil = fileNames[0].str.contains('Solut')\n",
    "solutionFiles = fileNames[fil].sort_values(0)"
   ]
  },
  {
   "cell_type": "code",
   "execution_count": 3,
   "metadata": {},
   "outputs": [],
   "source": [
    "def extractSingleInstAndQuiz(fileName, searchTerm):\n",
    "    nb = nbformat.read(fileName, as_version = 4)\n",
    "    rst, res = RSTExporter().from_notebook_node(nb)\n",
    "    a = rst.find(searchTerm)\n",
    "    b = rst[rst.find(searchTerm):].find('\\n\\n')\n",
    "    return rst[a : a + b]"
   ]
  },
  {
   "cell_type": "code",
   "execution_count": 4,
   "metadata": {},
   "outputs": [],
   "source": [
    "IandQ = []\n",
    "\n",
    "for j in range(len(solutionFiles)):\n",
    "    fileName = solutionFiles.iloc[j][0]\n",
    "    IandQ.append('')\n",
    "    IandQ.append(fileName[10:-6])\n",
    "    \n",
    "    for i in ['I1', 'I2', 'I3', 'Q1', 'Q2', 'Q3', 'Q4', 'Q5', 'Q6']:\n",
    "        e = extractSingleInstAndQuiz(fileName, i)\n",
    "        if len(e) > 0:\n",
    "            IandQ.append(e)\n",
    "\n"
   ]
  },
  {
   "cell_type": "code",
   "execution_count": 5,
   "metadata": {},
   "outputs": [],
   "source": [
    "textfile = open(\"All Instant Reviews & Quiz.txt\", \"w\")\n",
    "for element in IandQ:\n",
    "    textfile.write(element + \"\\n\")\n",
    "textfile.close()"
   ]
  }
 ],
 "metadata": {
  "kernelspec": {
   "display_name": "Python 3",
   "language": "python",
   "name": "python3"
  },
  "language_info": {
   "codemirror_mode": {
    "name": "ipython",
    "version": 3
   },
   "file_extension": ".py",
   "mimetype": "text/x-python",
   "name": "python",
   "nbconvert_exporter": "python",
   "pygments_lexer": "ipython3",
   "version": "3.8.5"
  }
 },
 "nbformat": 4,
 "nbformat_minor": 4
}
