{
 "cells": [
  {
   "cell_type": "code",
   "execution_count": 26,
   "metadata": {},
   "outputs": [],
   "source": [
    "import pandas as pd\n",
    "import matplotlib.pyplot as plt\n",
    "from ipywidgets import interact"
   ]
  },
  {
   "cell_type": "code",
   "execution_count": 29,
   "metadata": {},
   "outputs": [
    {
     "data": {
      "application/vnd.jupyter.widget-view+json": {
       "model_id": "b75ac9227db5425ba7a1e44ab2493d6c",
       "version_major": 2,
       "version_minor": 0
      },
      "text/plain": [
       "interactive(children=(Dropdown(description='el1', options=('Mg', 'Si', 'Al', 'Mn', 'Cr', 'La', 'Yb', 'Lu'), va…"
      ]
     },
     "metadata": {},
     "output_type": "display_data"
    },
    {
     "data": {
      "text/plain": [
       "<function __main__.plRatios(el1, el2, median)>"
      ]
     },
     "execution_count": 29,
     "metadata": {},
     "output_type": "execute_result"
    }
   ],
   "source": [
    "dataFiles = ['Bastar Craton', 'Easter Seamount Chain Salas Y Gomez Ridge', 'Ninetyeast Ridge', 'Baical Rift Zone', 'Emeishan', 'Galapagos Islands', 'Tanzania Craton Archean', 'Banda Arc', 'Karoo Province - Africa', 'North American Cordillera - Paleozoic', 'Hyblean or Iblean Plateau, Sicily', 'McDonald Islands']\n",
    "elList = ['Mg', 'Si', 'Al', 'Mn', 'Cr', 'La', 'Yb', 'Lu']\n",
    "\n",
    "\n",
    "def elRatios(el1, el2, median):\n",
    "    laLuRatio = []\n",
    "    for i in dataFiles:\n",
    "        df = pd.read_csv('data/georoc data/' + i + '.csv')\n",
    "        if median:\n",
    "            laLuRatio.append(df[el1].median()/df[el2].median())\n",
    "        else:\n",
    "            laLuRatio.append(df[el1].mean()/df[el2].mean())\n",
    "    return laLuRatio\n",
    "\n",
    "\n",
    "def plRatios(el1, el2, median):\n",
    "    plData = elRatios(el1, el2, median)\n",
    "\n",
    "    plt.scatter(range(len(plData)), plData)\n",
    "    plt.xticks(range(len(dataFiles)), dataFiles, rotation = 90)\n",
    "    plt.ylabel(el1 + ' / ' + el2 + (' mass-ratio'))\n",
    "    plt.show()\n",
    "\n",
    "    \n",
    "interact(plRatios, el1 = elList, el2 = elList, median = False)"
   ]
  },
  {
   "cell_type": "code",
   "execution_count": 25,
   "metadata": {},
   "outputs": [
    {
     "data": {
      "text/plain": [
       "<matplotlib.collections.PathCollection at 0x7fc37ffe83a0>"
      ]
     },
     "execution_count": 25,
     "metadata": {},
     "output_type": "execute_result"
    },
    {
     "data": {
      "image/png": "[encoded data removed]",
      "text/plain": [
       "<Figure size 432x288 with 1 Axes>"
      ]
     },
     "metadata": {
      "needs_background": "light"
     },
     "output_type": "display_data"
    }
   ],
   "source": [
    "data = [13,26,2.69,11,2.3,0.58,2.4,0.4,2.6,0.5,1.6,0.25,1.6,0.24]\n",
    "reeNames = ['La', 'Ce', 'Pr', 'Nd', 'Sm', 'Eu', 'Gd', 'Tb', 'Dy', 'Ho', 'Er', 'Tm', 'Yb', 'Lu']\n",
    "\n",
    "plt.scatter(range(len(data)), data)"
   ]
  }
 ],
 "metadata": {
  "kernelspec": {
   "display_name": "Python 3",
   "language": "python",
   "name": "python3"
  },
  "language_info": {
   "codemirror_mode": {
    "name": "ipython",
    "version": 3
   },
   "file_extension": ".py",
   "mimetype": "text/x-python",
   "name": "python",
   "nbconvert_exporter": "python",
   "pygments_lexer": "ipython3",
   "version": "3.8.5"
  }
 },
 "nbformat": 4,
 "nbformat_minor": 4
}
