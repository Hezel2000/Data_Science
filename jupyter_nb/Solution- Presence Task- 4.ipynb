{
 "cells": [
  {
   "cell_type": "code",
   "execution_count": 1,
   "metadata": {},
   "outputs": [],
   "source": [
    "import pandas as pd\n",
    "import matplotlib.pyplot as plt\n",
    "from ipywidgets import interact"
   ]
  },
  {
   "cell_type": "code",
   "execution_count": 2,
   "metadata": {},
   "outputs": [],
   "source": [
    "def readFile(fileName):\n",
    "    res = pd.read_csv('data/' + fileName + '.csv')\n",
    "    return res\n",
    "\n",
    "\n",
    "elements = ['Mg', 'Si', 'Ti', 'Al', 'Cr', 'Mn', 'La']\n",
    "localities = ['Bastar Craton', 'Tanzania Craton Archean',  'West African Craton']\n",
    "legloc = ['upper right', 'lower right', 'upper left', 'lower left']"
   ]
  },
  {
   "cell_type": "code",
   "execution_count": 3,
   "metadata": {},
   "outputs": [
    {
     "data": {
      "application/vnd.jupyter.widget-view+json": {
       "model_id": "a974254829ed4325a9963d1293cf9755",
       "version_major": 2,
       "version_minor": 0
      },
      "text/plain": [
       "interactive(children=(Dropdown(description='x', options=('Mg', 'Si', 'Ti', 'Al', 'Cr', 'Mn', 'La'), value='Mg'…"
      ]
     },
     "metadata": {},
     "output_type": "display_data"
    },
    {
     "data": {
      "text/plain": [
       "<function __main__.p(x, y, loc, loc2, x_wt_ppm, y_wt_ppm, maxVal, ll)>"
      ]
     },
     "execution_count": 3,
     "metadata": {},
     "output_type": "execute_result"
    }
   ],
   "source": [
    "def p(x, y, loc, loc2, x_wt_ppm, y_wt_ppm, maxVal, ll):\n",
    "    df = readFile(loc)\n",
    "    df2 = readFile(loc2)\n",
    "\n",
    "    if x_wt_ppm == True:\n",
    "        plt.xlabel(x + ' (wt-ppm)')\n",
    "        xfac = 1\n",
    "    else:\n",
    "        plt.xlabel(x + ' (wt%)')\n",
    "        xfac = .0001\n",
    "    if y_wt_ppm == True:\n",
    "        plt.ylabel(y + ' (wt-ppm)')\n",
    "        yfac = 1\n",
    "    else:\n",
    "        plt.ylabel(y + ' (wt%)')\n",
    "        yfac = .0001\n",
    "    \n",
    "    plt.scatter(xfac * df.loc[:, x], yfac * df.loc[:, y], label = loc)\n",
    "    plt.scatter(xfac * df2.loc[:, x], yfac * df2.loc[:, y], label = loc2)\n",
    "    plt.xlim(xfac * 0, xfac * maxVal)\n",
    "    plt.legend(loc = ll)\n",
    "    res = plt.show()\n",
    "    return res\n",
    "\n",
    "\n",
    "interact(p, x = elements, y = elements, loc = localities, loc2 = localities, x_wt_ppm = False, y_wt_ppm = False, maxVal = (0, 1000000, 100), ll = legloc)\n"
   ]
  },
  {
   "cell_type": "code",
   "execution_count": 84,
   "metadata": {},
   "outputs": [
    {
     "data": {
      "text/plain": [
       "0      24664.336\n",
       "1      27498.624\n",
       "2      27558.928\n",
       "3      39378.512\n",
       "4      42273.104\n",
       "         ...    \n",
       "229    57107.888\n",
       "230    14593.568\n",
       "231    18392.720\n",
       "233    13628.704\n",
       "234    11216.544\n",
       "Name: Mg, Length: 182, dtype: float64"
      ]
     },
     "execution_count": 84,
     "metadata": {},
     "output_type": "execute_result"
    }
   ],
   "source": [
    "def location(loc):\n",
    "    if loc == 'ur':\n",
    "        plt.coord\n",
    "    elif loc == 'lr':\n",
    "        "
   ]
  }
 ],
 "metadata": {
  "kernelspec": {
   "display_name": "Python 3",
   "language": "python",
   "name": "python3"
  },
  "language_info": {
   "codemirror_mode": {
    "name": "ipython",
    "version": 3
   },
   "file_extension": ".py",
   "mimetype": "text/x-python",
   "name": "python",
   "nbconvert_exporter": "python",
   "pygments_lexer": "ipython3",
   "version": "3.8.5"
  }
 },
 "nbformat": 4,
 "nbformat_minor": 4
}
