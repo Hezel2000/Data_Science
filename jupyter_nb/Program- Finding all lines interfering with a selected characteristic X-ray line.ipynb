{
 "cells": [
  {
   "cell_type": "markdown",
   "metadata": {},
   "source": [
    "# Finding all lines interfering with a selected characteristic X-ray line"
   ]
  },
  {
   "cell_type": "markdown",
   "metadata": {},
   "source": [
    "<b>Step 1:</b><br>\n",
    "Import the pandas package and read in and display the transition energies file."
   ]
  },
  {
   "cell_type": "code",
   "execution_count": 2,
   "metadata": {},
   "outputs": [],
   "source": [
    "import pandas as pd\n",
    "\n",
    "df = pd.read_csv('data/transition_energies.csv')"
   ]
  },
  {
   "cell_type": "markdown",
   "metadata": {},
   "source": [
    "<b>Step 2:</b><br>\n",
    "An element needs to be selected.<br>\n",
    "Then the code will display relevant information for this element taht allows to make a sensible choice which line might be used to measure the element."
   ]
  },
  {
   "cell_type": "code",
   "execution_count": 23,
   "metadata": {},
   "outputs": [
    {
     "data": {
      "text/html": [
       "<div>\n",
       "<style scoped>\n",
       "    .dataframe tbody tr th:only-of-type {\n",
       "        vertical-align: middle;\n",
       "    }\n",
       "\n",
       "    .dataframe tbody tr th {\n",
       "        vertical-align: top;\n",
       "    }\n",
       "\n",
       "    .dataframe thead th {\n",
       "        text-align: right;\n",
       "    }\n",
       "</style>\n",
       "<table border=\"1\" class=\"dataframe\">\n",
       "  <thead>\n",
       "    <tr style=\"text-align: right;\">\n",
       "      <th></th>\n",
       "      <th>Line</th>\n",
       "      <th>I</th>\n",
       "      <th>Energy (keV)</th>\n",
       "    </tr>\n",
       "  </thead>\n",
       "  <tbody>\n",
       "    <tr>\n",
       "      <th>274</th>\n",
       "      <td>K$\\alpha$</td>\n",
       "      <td>100.0</td>\n",
       "      <td>0.181467</td>\n",
       "    </tr>\n",
       "    <tr>\n",
       "      <th>275</th>\n",
       "      <td>AK</td>\n",
       "      <td>NaN</td>\n",
       "      <td>0.191889</td>\n",
       "    </tr>\n",
       "  </tbody>\n",
       "</table>\n",
       "</div>"
      ],
      "text/plain": [
       "          Line      I  Energy (keV)\n",
       "274  K$\\alpha$  100.0      0.181467\n",
       "275         AK    NaN      0.191889"
      ]
     },
     "execution_count": 23,
     "metadata": {},
     "output_type": "execute_result"
    }
   ],
   "source": [
    "el = 'B'\n",
    "lineFil = df['El'] == el\n",
    "df[lineFil].loc[:, ['Line', 'I', 'Energy (keV)']]"
   ]
  },
  {
   "cell_type": "markdown",
   "metadata": {},
   "source": [
    "<b>Step 3:</b><br>\n",
    "The line is then selected unsing its index number. The 'crystalList' is simply taken from the data file – and ordered in a more sensibly way.<br>\n",
    "Then the code tests which element is within the range of the spectrometer movement (in mm). This might be the case for more than one crystal. Hende, the result most sensibly stored in a dictionary with a key (= the crystal) and a value (= the crystal position in mm)."
   ]
  },
  {
   "cell_type": "code",
   "execution_count": 24,
   "metadata": {},
   "outputs": [
    {
     "data": {
      "text/plain": [
       "{'LDE2': 195.17142859999998, 'STE': 190.5059761}"
      ]
     },
     "execution_count": 24,
     "metadata": {},
     "output_type": "execute_result"
    }
   ],
   "source": [
    "line = 274\n",
    "\n",
    "crystalList = ['TAP', 'LIF', 'PET', 'LDE1', 'LDE2', 'LDE4', 'STE']\n",
    "\n",
    "posCryst = []\n",
    "for i in crystalList:\n",
    "    if (df.loc[line, i] > 70) & (df.loc[line, i] < 260):\n",
    "        posCryst.append([i, df.loc[line, i]])\n",
    "\n",
    "posCryst = dict(posCryst)\n",
    "posCryst"
   ]
  },
  {
   "cell_type": "markdown",
   "metadata": {},
   "source": [
    "<b>Step 4:</b><br>\n",
    "A 'delta' needs to be given, which defines at what ±mm another line interferes with the selected line. Alos, a crystl must be given, as there might be more than one crystal, with which a line can be measured.<br>\n",
    "The code then selects and displays only those lines that might interefere with the selected line."
   ]
  },
  {
   "cell_type": "code",
   "execution_count": 25,
   "metadata": {},
   "outputs": [
    {
     "data": {
      "text/html": [
       "<div>\n",
       "<style scoped>\n",
       "    .dataframe tbody tr th:only-of-type {\n",
       "        vertical-align: middle;\n",
       "    }\n",
       "\n",
       "    .dataframe tbody tr th {\n",
       "        vertical-align: top;\n",
       "    }\n",
       "\n",
       "    .dataframe thead th {\n",
       "        text-align: right;\n",
       "    }\n",
       "</style>\n",
       "<table border=\"1\" class=\"dataframe\">\n",
       "  <thead>\n",
       "    <tr style=\"text-align: right;\">\n",
       "      <th></th>\n",
       "      <th>El</th>\n",
       "      <th>Energy (keV)</th>\n",
       "      <th>I</th>\n",
       "      <th>LDE1</th>\n",
       "      <th>LDE2</th>\n",
       "      <th>LDE4</th>\n",
       "      <th>LIF</th>\n",
       "      <th>Lambda (A)</th>\n",
       "      <th>Line</th>\n",
       "      <th>Line old</th>\n",
       "      <th>PET</th>\n",
       "      <th>STE</th>\n",
       "      <th>TAP</th>\n",
       "      <th>Z</th>\n",
       "    </tr>\n",
       "  </thead>\n",
       "  <tbody>\n",
       "    <tr>\n",
       "      <th>274</th>\n",
       "      <td>B</td>\n",
       "      <td>0.181467</td>\n",
       "      <td>100.0</td>\n",
       "      <td>318.780000</td>\n",
       "      <td>195.171429</td>\n",
       "      <td>478.17</td>\n",
       "      <td>4749.993791</td>\n",
       "      <td>68.31</td>\n",
       "      <td>K$\\alpha$</td>\n",
       "      <td>K_</td>\n",
       "      <td>2187.920384</td>\n",
       "      <td>190.505976</td>\n",
       "      <td>742.586481</td>\n",
       "      <td>5</td>\n",
       "    </tr>\n",
       "    <tr>\n",
       "      <th>633</th>\n",
       "      <td>Ru</td>\n",
       "      <td>0.181493</td>\n",
       "      <td>1.0</td>\n",
       "      <td>318.733333</td>\n",
       "      <td>195.142857</td>\n",
       "      <td>478.10</td>\n",
       "      <td>4749.298433</td>\n",
       "      <td>68.30</td>\n",
       "      <td>M3-M5</td>\n",
       "      <td>M3-M5</td>\n",
       "      <td>2187.600092</td>\n",
       "      <td>190.478088</td>\n",
       "      <td>742.477773</td>\n",
       "      <td>44</td>\n",
       "    </tr>\n",
       "  </tbody>\n",
       "</table>\n",
       "</div>"
      ],
      "text/plain": [
       "     El  Energy (keV)      I        LDE1        LDE2    LDE4          LIF  \\\n",
       "274   B      0.181467  100.0  318.780000  195.171429  478.17  4749.993791   \n",
       "633  Ru      0.181493    1.0  318.733333  195.142857  478.10  4749.298433   \n",
       "\n",
       "     Lambda (A)       Line Line old          PET         STE         TAP   Z  \n",
       "274       68.31  K$\\alpha$       K_  2187.920384  190.505976  742.586481   5  \n",
       "633       68.30      M3-M5    M3-M5  2187.600092  190.478088  742.477773  44  "
      ]
     },
     "execution_count": 25,
     "metadata": {},
     "output_type": "execute_result"
    }
   ],
   "source": [
    "crystal = 'LDE2'\n",
    "delta = 1\n",
    "\n",
    "fil = (df[crystal] < posCryst[crystal] + delta) & (df[crystal] > posCryst[crystal] - delta)\n",
    "df[fil]"
   ]
  },
  {
   "cell_type": "markdown",
   "metadata": {},
   "source": [
    "<b>Step 5 and beyond: How to continue</b><br>\n",
    "Step 3 could be expanded, so that the selected line is not displayed.<br>\n",
    "The entire code could be made interactive with dropdown menus and input fields."
   ]
  }
 ],
 "metadata": {
  "kernelspec": {
   "display_name": "Python 3",
   "language": "python",
   "name": "python3"
  },
  "language_info": {
   "codemirror_mode": {
    "name": "ipython",
    "version": 3
   },
   "file_extension": ".py",
   "mimetype": "text/x-python",
   "name": "python",
   "nbconvert_exporter": "python",
   "pygments_lexer": "ipython3",
   "version": "3.8.5"
  }
 },
 "nbformat": 4,
 "nbformat_minor": 4
}
