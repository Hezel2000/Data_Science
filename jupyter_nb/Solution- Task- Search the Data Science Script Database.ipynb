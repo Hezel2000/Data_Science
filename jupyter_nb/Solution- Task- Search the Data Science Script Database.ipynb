{
 "cells": [
  {
   "cell_type": "markdown",
   "metadata": {},
   "source": [
    "# Solution- Search the Data Science Script Database"
   ]
  },
  {
   "cell_type": "code",
   "execution_count": 1,
   "metadata": {},
   "outputs": [],
   "source": [
    "import pandas as pd\n",
    "import matplotlib.pyplot as plt\n",
    "from ipywidgets import interact\n",
    "from IPython.display import IFrame\n",
    "\n",
    "df = pd.read_excel('data/Data Science Script Database.xlsx')"
   ]
  },
  {
   "cell_type": "markdown",
   "metadata": {},
   "source": [
    "## Search for datasets that contain a certain search phrase"
   ]
  },
  {
   "cell_type": "code",
   "execution_count": 2,
   "metadata": {},
   "outputs": [],
   "source": [
    "categoryList = df.columns.tolist()\n",
    "\n",
    "def selColumnElements(cat):\n",
    "    column = df[cat].dropna()\n",
    "    keywordList = []\n",
    "    for i in column:\n",
    "        splitStrings = i.split(',')\n",
    "        keywordList = keywordList + splitStrings\n",
    "    return keywordList\n",
    "\n",
    "\n",
    "def disp(cat, searchPhrase):\n",
    "    fil = df[cat].notna()\n",
    "    dfna = df[fil]\n",
    "    fil = dfna[cat].str.contains(searchPhrase)\n",
    "    res = dfna[fil]\n",
    "    return res"
   ]
  },
  {
   "cell_type": "code",
   "execution_count": 3,
   "metadata": {},
   "outputs": [
    {
     "data": {
      "application/vnd.jupyter.widget-view+json": {
       "model_id": "1c8f76249d1e4450b93a5a9dc11e390f",
       "version_major": 2,
       "version_minor": 0
      },
      "text/plain": [
       "interactive(children=(Dropdown(description='cat', options=('title', 'keywords', 'commands', 'imports', 'link-Y…"
      ]
     },
     "metadata": {},
     "output_type": "display_data"
    },
    {
     "data": {
      "text/plain": [
       "<function __main__.disp(cat, searchPhrase)>"
      ]
     },
     "execution_count": 3,
     "metadata": {},
     "output_type": "execute_result"
    }
   ],
   "source": [
    "interact(disp, cat = categoryList, searchPhrase = 'Search')"
   ]
  },
  {
   "cell_type": "markdown",
   "metadata": {},
   "source": [
    "## Display a selected video"
   ]
  },
  {
   "cell_type": "code",
   "execution_count": 4,
   "metadata": {},
   "outputs": [
    {
     "data": {
      "application/vnd.jupyter.widget-view+json": {
       "model_id": "15f3306a4e4f40a4959612caecf31288",
       "version_major": 2,
       "version_minor": 0
      },
      "text/plain": [
       "interactive(children=(Text(value='10', description='videoNr'), Checkbox(value=True, description='vimeo'), Outp…"
      ]
     },
     "metadata": {},
     "output_type": "display_data"
    },
    {
     "data": {
      "text/plain": [
       "<function __main__.playVideo(videoNr, vimeo)>"
      ]
     },
     "execution_count": 4,
     "metadata": {},
     "output_type": "execute_result"
    }
   ],
   "source": [
    "def playVideo(videoNr, vimeo):\n",
    "    if vimeo:\n",
    "        vimeoKey = df.loc[int(videoNr), 'link-Vimeo'].split('/')[-1]\n",
    "        return IFrame(src = 'https://player.vimeo.com/video/' + vimeoKey + '?title=0&byline=0&portrait=0', width = \"560\", height = \"315\")\n",
    "    else:\n",
    "        youtubeKey = df.loc[int(videoNr), 'link-Youtube'].split('/')[-1]\n",
    "        return IFrame(src = 'https://www.youtube.com/embed/' + youtubeKey + '?rel=0&amp;controls=0&amp;showinfo=0', width = \"560\", height = \"315\")\n",
    "\n",
    "interact(playVideo, videoNr = '10', vimeo = True) "
   ]
  }
 ],
 "metadata": {
  "kernelspec": {
   "display_name": "Python 3",
   "language": "python",
   "name": "python3"
  },
  "language_info": {
   "codemirror_mode": {
    "name": "ipython",
    "version": 3
   },
   "file_extension": ".py",
   "mimetype": "text/x-python",
   "name": "python",
   "nbconvert_exporter": "python",
   "pygments_lexer": "ipython3",
   "version": "3.8.5"
  }
 },
 "nbformat": 4,
 "nbformat_minor": 4
}
