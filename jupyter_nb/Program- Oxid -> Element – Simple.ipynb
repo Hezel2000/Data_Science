{
 "cells": [
  {
   "cell_type": "markdown",
   "metadata": {},
   "source": [
    "# Simple"
   ]
  },
  {
   "cell_type": "markdown",
   "metadata": {},
   "source": [
    "Use the 'Atmoic Masses.xlsx' spreadsheet to look up element masses."
   ]
  },
  {
   "cell_type": "code",
   "execution_count": 2,
   "metadata": {},
   "outputs": [
    {
     "name": "stdout",
     "output_type": "stream",
     "text": [
      "0.6031167026477083\n"
     ]
    }
   ],
   "source": [
    "mg = 24.305\n",
    "o = 15.994\n",
    "\n",
    "oxElFactor = mg / (mg + o)\n",
    "\n",
    "print(oxElFactor)"
   ]
  },
  {
   "cell_type": "code",
   "execution_count": 1,
   "metadata": {},
   "outputs": [
    {
     "name": "stdout",
     "output_type": "stream",
     "text": [
      "0.6031167026477083\n"
     ]
    }
   ],
   "source": [
    "el = 24.305\n",
    "o = 15.994\n",
    "\n",
    "oxElFactor = el / (el + o)\n",
    "\n",
    "print(oxElFactor)"
   ]
  },
  {
   "cell_type": "code",
   "execution_count": 8,
   "metadata": {},
   "outputs": [
    {
     "name": "stdout",
     "output_type": "stream",
     "text": [
      "0.5293348143922199\n"
     ]
    }
   ],
   "source": [
    "el = 26.98154\n",
    "elValence = 3\n",
    "o = 15.994\n",
    "\n",
    "oxElFactor = el / (el + (elValence / 2) * o)\n",
    "\n",
    "print(oxElFactor)"
   ]
  },
  {
   "cell_type": "code",
   "execution_count": null,
   "metadata": {},
   "outputs": [],
   "source": []
  }
 ],
 "metadata": {
  "kernelspec": {
   "display_name": "Python 3",
   "language": "python",
   "name": "python3"
  },
  "language_info": {
   "codemirror_mode": {
    "name": "ipython",
    "version": 3
   },
   "file_extension": ".py",
   "mimetype": "text/x-python",
   "name": "python",
   "nbconvert_exporter": "python",
   "pygments_lexer": "ipython3",
   "version": "3.8.5"
  }
 },
 "nbformat": 4,
 "nbformat_minor": 4
}
